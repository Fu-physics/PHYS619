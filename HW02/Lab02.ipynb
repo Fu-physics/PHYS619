{
 "cells": [
  {
   "cell_type": "markdown",
   "metadata": {},
   "source": [
    "# Lab 02 "
   ]
  },
  {
   "cell_type": "markdown",
   "metadata": {},
   "source": [
    "## L1 [60] Bisection & Newton Method "
   ]
  },
  {
   "cell_type": "code",
   "execution_count": 107,
   "metadata": {
    "collapsed": true
   },
   "outputs": [],
   "source": [
    "import numpy as np\n",
    "import matplotlib as plt"
   ]
  },
  {
   "cell_type": "code",
   "execution_count": 1,
   "metadata": {
    "collapsed": true
   },
   "outputs": [],
   "source": [
    "def function_f(x):\n",
    "    return x**3 - 4*x + 2"
   ]
  },
  {
   "cell_type": "markdown",
   "metadata": {},
   "source": [
    "positive value region : [0, 1]  , [1, 2]"
   ]
  },
  {
   "cell_type": "markdown",
   "metadata": {},
   "source": [
    "### a) Find the two positive roots"
   ]
  },
  {
   "cell_type": "markdown",
   "metadata": {},
   "source": [
    "#### bisection method"
   ]
  },
  {
   "cell_type": "code",
   "execution_count": 73,
   "metadata": {},
   "outputs": [],
   "source": [
    "def fun_root(f, region):\n",
    "    x_ini = region[0]\n",
    "    x_end = region[1]\n",
    "    i = 1\n",
    "    while 1:\n",
    "        i = i + 1\n",
    "        print(i,\"th step\")\n",
    "        if f(x_ini) > 0.0:\n",
    "            x_temp = (x_ini + x_end)/2\n",
    "            if f(x_temp) > 0.0:\n",
    "                x_ini = x_temp\n",
    "            else:\n",
    "                x_end = x_temp\n",
    "\n",
    "            if x_end - x_ini < 0.0001:\n",
    "                #print(x_ini)\n",
    "                break\n",
    "        elif f(x_ini) < 0.0:\n",
    "            x_temp = (x_ini + x_end)/2\n",
    "            if f(x_temp) < 0.0:\n",
    "                x_ini = x_temp\n",
    "            else:\n",
    "                x_end = x_temp\n",
    "\n",
    "            if x_end - x_ini < 10**(-14):\n",
    "                #print(x_ini)\n",
    "                break\n",
    "    return x_ini\n",
    "        \n",
    "        \n",
    "        "
   ]
  },
  {
   "cell_type": "code",
   "execution_count": 74,
   "metadata": {},
   "outputs": [
    {
     "name": "stdout",
     "output_type": "stream",
     "text": [
      "2 th step\n",
      "3 th step\n",
      "4 th step\n",
      "5 th step\n",
      "6 th step\n",
      "7 th step\n",
      "8 th step\n",
      "9 th step\n",
      "10 th step\n",
      "11 th step\n",
      "12 th step\n",
      "13 th step\n",
      "14 th step\n",
      "15 th step\n",
      "the first positive root is: 0.5391845703125\n",
      "2 th step\n",
      "3 th step\n",
      "4 th step\n",
      "5 th step\n",
      "6 th step\n",
      "7 th step\n",
      "8 th step\n",
      "9 th step\n",
      "10 th step\n",
      "11 th step\n",
      "12 th step\n",
      "13 th step\n",
      "14 th step\n",
      "15 th step\n",
      "16 th step\n",
      "17 th step\n",
      "18 th step\n",
      "19 th step\n",
      "20 th step\n",
      "21 th step\n",
      "22 th step\n",
      "23 th step\n",
      "24 th step\n",
      "25 th step\n",
      "26 th step\n",
      "27 th step\n",
      "28 th step\n",
      "29 th step\n",
      "30 th step\n",
      "31 th step\n",
      "32 th step\n",
      "33 th step\n",
      "34 th step\n",
      "35 th step\n",
      "36 th step\n",
      "37 th step\n",
      "38 th step\n",
      "39 th step\n",
      "40 th step\n",
      "41 th step\n",
      "42 th step\n",
      "43 th step\n",
      "44 th step\n",
      "45 th step\n",
      "46 th step\n",
      "47 th step\n",
      "48 th step\n",
      "the second positive root is: 1.6751308705666403\n"
     ]
    }
   ],
   "source": [
    "#%%timeit \n",
    "region_1 = [0.0, 1.0]\n",
    "region_2 = [1.0, 2.0]\n",
    "\n",
    "print(\"the first positive root is:\", fun_root(function_f, region_1))\n",
    "print(\"the second positive root is:\", fun_root(function_f, region_2))"
   ]
  },
  {
   "cell_type": "markdown",
   "metadata": {},
   "source": [
    "#### Newton method"
   ]
  },
  {
   "cell_type": "code",
   "execution_count": 2,
   "metadata": {
    "collapsed": true
   },
   "outputs": [],
   "source": [
    "def fun_dev(x):\n",
    "    return 3*x**2 - 4\n",
    "    "
   ]
  },
  {
   "cell_type": "code",
   "execution_count": 69,
   "metadata": {
    "collapsed": true
   },
   "outputs": [],
   "source": [
    "def Newton_root(f, f_dev, point):\n",
    "    x_ini = point\n",
    "    x_next = 0.0\n",
    "    i = 1\n",
    "    \n",
    "    while 1:\n",
    "        i = i+1\n",
    "        print(i,\"th step\")\n",
    "        x_next = x_ini - f(x_ini)/f_dev(x_ini)\n",
    "        #print(\"x_next is:\", x_next)\n",
    "        #print(\"x_ini is:\", x_ini)\n",
    "        \n",
    "        if abs(x_next - x_ini) < 10**(-14):\n",
    "            break\n",
    "        else:\n",
    "            x_ini = x_next\n",
    "        \n",
    "        #print(x_ini)\n",
    "        \n",
    "    return x_next\n",
    "    \n",
    "    "
   ]
  },
  {
   "cell_type": "code",
   "execution_count": 70,
   "metadata": {},
   "outputs": [
    {
     "name": "stdout",
     "output_type": "stream",
     "text": [
      "2 th step\n",
      "3 th step\n",
      "4 th step\n",
      "5 th step\n",
      "6 th step\n",
      "7 th step\n",
      "the first positive root is: 0.5391888728108891\n",
      "2 th step\n",
      "3 th step\n",
      "4 th step\n",
      "5 th step\n",
      "6 th step\n",
      "7 th step\n",
      "the second positive root is: 1.6751308705666461\n"
     ]
    }
   ],
   "source": [
    "#%%timeit \n",
    "print(\"the first positive root is:\",Newton_root(function_f, fun_dev, 0.0))\n",
    "\n",
    "print(\"the second positive root is:\",Newton_root(function_f, fun_dev, 2.0))"
   ]
  },
  {
   "cell_type": "code",
   "execution_count": 66,
   "metadata": {},
   "outputs": [
    {
     "name": "stdout",
     "output_type": "stream",
     "text": [
      "7.42 µs ± 236 ns per loop (mean ± std. dev. of 7 runs, 100000 loops each)\n"
     ]
    }
   ],
   "source": [
    "#%%timeit \n",
    "Newton_root(function_f, fun_dev, 0.0)\n",
    "\n",
    "Newton_root(function_f, fun_dev, 2.0)"
   ]
  },
  {
   "cell_type": "markdown",
   "metadata": {},
   "source": [
    "### Newton method : 7 steps\n",
    "###  bisection method: 15 to 50 steps"
   ]
  },
  {
   "cell_type": "markdown",
   "metadata": {},
   "source": [
    "## L2 [40] Ballistic Trajectory "
   ]
  },
  {
   "cell_type": "code",
   "execution_count": 114,
   "metadata": {},
   "outputs": [],
   "source": [
    "g = 1.0\n",
    "f = np.array([0, -g])\n",
    "alpha = 0\n",
    "v0 = 1.0\n",
    "vel_ini = np.array([v0*np.cos(alpha), v0*np.sin(alpha)])\n",
    "vel_next = np.array([0.0, 0.0])\n",
    "\n",
    "r_ini = np.array([0.0, 1.0])\n",
    "\n",
    "dt = 0.1\n",
    "\n",
    "x_position = []\n",
    "y_position = []\n",
    "\n",
    "while r_ini[1] > 0.0:\n",
    "    #print(r_next[1])\n",
    "    \n",
    "    r_next = r_ini + vel_ini*dt \n",
    "    vel_next = vel_ini + f*dt\n",
    "    \n",
    "    r_ini = r_next\n",
    "    vel_ini = vel_next\n",
    "    \n",
    "    x_position.append(r_next[0])\n",
    "    y_position.append(r_next[1])\n",
    "    \n",
    "        "
   ]
  },
  {
   "cell_type": "code",
   "execution_count": 118,
   "metadata": {},
   "outputs": [
    {
     "data": {
      "text/plain": [
       "[1.0,\n",
       " 0.98999999999999999,\n",
       " 0.96999999999999997,\n",
       " 0.93999999999999995,\n",
       " 0.89999999999999991,\n",
       " 0.84999999999999987,\n",
       " 0.78999999999999981,\n",
       " 0.71999999999999986,\n",
       " 0.6399999999999999,\n",
       " 0.54999999999999993,\n",
       " 0.44999999999999996,\n",
       " 0.33999999999999997,\n",
       " 0.21999999999999997,\n",
       " 0.089999999999999969,\n",
       " -0.050000000000000044]"
      ]
     },
     "execution_count": 118,
     "metadata": {},
     "output_type": "execute_result"
    }
   ],
   "source": [
    "y_position"
   ]
  },
  {
   "cell_type": "code",
   "execution_count": 119,
   "metadata": {},
   "outputs": [
    {
     "data": {
      "text/plain": [
       "[0.10000000000000001,\n",
       " 0.20000000000000001,\n",
       " 0.30000000000000004,\n",
       " 0.40000000000000002,\n",
       " 0.5,\n",
       " 0.59999999999999998,\n",
       " 0.69999999999999996,\n",
       " 0.79999999999999993,\n",
       " 0.89999999999999991,\n",
       " 0.99999999999999989,\n",
       " 1.0999999999999999,\n",
       " 1.2,\n",
       " 1.3,\n",
       " 1.4000000000000001,\n",
       " 1.5000000000000002]"
      ]
     },
     "execution_count": 119,
     "metadata": {},
     "output_type": "execute_result"
    }
   ],
   "source": [
    "x_position"
   ]
  },
  {
   "cell_type": "code",
   "execution_count": null,
   "metadata": {
    "collapsed": true
   },
   "outputs": [],
   "source": []
  }
 ],
 "metadata": {
  "kernelspec": {
   "display_name": "Python 3",
   "language": "python",
   "name": "python3"
  },
  "language_info": {
   "codemirror_mode": {
    "name": "ipython",
    "version": 3
   },
   "file_extension": ".py",
   "mimetype": "text/x-python",
   "name": "python",
   "nbconvert_exporter": "python",
   "pygments_lexer": "ipython3",
   "version": "3.6.3"
  }
 },
 "nbformat": 4,
 "nbformat_minor": 2
}
