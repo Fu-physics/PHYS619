{
 "cells": [
  {
   "cell_type": "markdown",
   "metadata": {},
   "source": [
    "# HW01  \n",
    "\n",
    "## H3 problem"
   ]
  },
  {
   "cell_type": "code",
   "execution_count": 1,
   "metadata": {
    "collapsed": true
   },
   "outputs": [],
   "source": [
    "import numpy as np"
   ]
  },
  {
   "cell_type": "markdown",
   "metadata": {},
   "source": [
    "### a) solution\n",
    "\n",
    "Write a program to calculate Sup and Sdn in single precision"
   ]
  },
  {
   "cell_type": "code",
   "execution_count": 33,
   "metadata": {},
   "outputs": [
    {
     "name": "stdout",
     "output_type": "stream",
     "text": [
      "p is: 2\n",
      "ini_up is: 5.18738\n",
      "ini_dn is: 5.18738\n",
      "--------------------\n",
      "p is: 3\n",
      "ini_up is: 7.48548\n",
      "ini_dn is: 7.48547\n",
      "--------------------\n",
      "p is: 4\n",
      "ini_up is: 9.78761\n",
      "ini_dn is: 9.7876\n",
      "--------------------\n",
      "p is: 5\n",
      "ini_up is: 12.0909\n",
      "ini_dn is: 12.0902\n",
      "--------------------\n",
      "p is: 6\n",
      "ini_up is: 14.3574\n",
      "ini_dn is: 14.3927\n",
      "--------------------\n",
      "p is: 7\n",
      "ini_up is: 15.4037\n",
      "ini_dn is: 16.686\n",
      "--------------------\n",
      "p is: 8\n",
      "ini_up is: 15.4037\n",
      "ini_dn is: 18.8079\n",
      "--------------------\n",
      "result_up [  5.18737793   7.4854784    9.78761292  12.09085083  14.35735798\n",
      "  15.40368271  15.40368271]\n",
      "result_dn [  5.18737698   7.48547173   9.78760433  12.09015274  14.39265156\n",
      "  16.68603134  18.80791855]\n",
      "|S_up - S_dn| is: [  9.53674316e-07   6.67572021e-06   8.58306885e-06   6.98089600e-04\n",
      "   3.52935791e-02   1.28234863e+00   3.40423584e+00]\n"
     ]
    }
   ],
   "source": [
    "ini_up = np.float32(0.0)\n",
    "\n",
    "result_dn = []\n",
    "result_up = []\n",
    "\n",
    "for p in range(2,9):\n",
    "    up_lim = 10**p\n",
    "    print(\"p is:\", p)\n",
    "        ##    calculate the sum^{1}_{N} 1/n\n",
    "    ini_dn = np.float32(0.0)\n",
    "    for i in range(up_lim, 0, -1):\n",
    "        ini_dn = ini_dn + np.float32(1/i)\n",
    "    result_dn.append(ini_dn)\n",
    "    \n",
    "        ##    calculate the sum^{N}_{1} 1/n\n",
    "    ini_up = np.float32(0.0)\n",
    "    for i in range(1, up_lim+1):\n",
    "        ini_up = ini_up + np.float32(1/i)\n",
    "    result_up.append(ini_up)\n",
    "\n",
    "    print(\"ini_up is:\", ini_up)\n",
    "    print(\"ini_dn is:\", ini_dn)\n",
    "    print(\"--------------------\")\n",
    "result_up_s = np.array(result_up) \n",
    "result_dn_s = np.array(result_dn) \n",
    "print(\"result_up\", result_up_s)\n",
    "print(\"result_dn\", result_dn_s)\n",
    "print('|S_up - S_dn| is:', np.abs(result_dn_s - result_up_s))"
   ]
  },
  {
   "cell_type": "markdown",
   "metadata": {},
   "source": [
    "### b) \n",
    "\n",
    "Write a program to calculate Sup and Sdn in double precision for N = 10p with p = 2, 3, ...8"
   ]
  },
  {
   "cell_type": "code",
   "execution_count": 34,
   "metadata": {},
   "outputs": [
    {
     "name": "stdout",
     "output_type": "stream",
     "text": [
      "p is: 2\n",
      "ini_up is: 5.18737751764\n",
      "ini_dn is: 5.18737751764\n",
      "--------------------\n",
      "p is: 3\n",
      "ini_up is: 7.48547086055\n",
      "ini_dn is: 7.48547086055\n",
      "--------------------\n",
      "p is: 4\n",
      "ini_up is: 9.78760603604\n",
      "ini_dn is: 9.78760603604\n",
      "--------------------\n",
      "p is: 5\n",
      "ini_up is: 12.0901461299\n",
      "ini_dn is: 12.0901461299\n",
      "--------------------\n",
      "p is: 6\n",
      "ini_up is: 14.3927267229\n",
      "ini_dn is: 14.3927267229\n",
      "--------------------\n",
      "p is: 7\n",
      "ini_up is: 16.6953113659\n",
      "ini_dn is: 16.6953113659\n",
      "--------------------\n",
      "p is: 8\n",
      "ini_up is: 18.9978964139\n",
      "ini_dn is: 18.9978964139\n",
      "--------------------\n",
      "result_up [  5.18737752   7.48547086   9.78760604  12.09014613  14.39272672\n",
      "  16.69531137  18.99789641]\n",
      "result_dn [  5.18737752   7.48547086   9.78760604  12.09014613  14.39272672\n",
      "  16.69531137  18.99789641]\n"
     ]
    },
    {
     "data": {
      "text/plain": [
       "array([  8.88178420e-16,   2.66453526e-15,   3.73034936e-14,\n",
       "         7.28306304e-14,   7.83373366e-13,   2.69295697e-12,\n",
       "         8.91731133e-13])"
      ]
     },
     "execution_count": 34,
     "metadata": {},
     "output_type": "execute_result"
    }
   ],
   "source": [
    "ini_up = np.float64(0.0)\n",
    "\n",
    "result_dn = []\n",
    "result_up = []\n",
    "\n",
    "for p in range(2,9):\n",
    "    up_lim = 10**p\n",
    "    print(\"p is:\", p)\n",
    "        ##    calculate the sum^{1}_{N} 1/n\n",
    "    ini_dn = np.float64(0.0)\n",
    "    for i in range(up_lim, 0, -1):\n",
    "        ini_dn = ini_dn + np.float64(1/i)\n",
    "    result_dn.append(ini_dn)\n",
    "    \n",
    "        ##    calculate the sum^{N}_{1} 1/n\n",
    "    ini_up = np.float64(0.0)\n",
    "    for i in range(1, up_lim+1):\n",
    "        ini_up = ini_up + np.float64(1/i)\n",
    "    result_up.append(ini_up)\n",
    "\n",
    "    print(\"ini_up is:\", ini_up)\n",
    "    print(\"ini_dn is:\", ini_dn)\n",
    "    print(\"--------------------\")\n",
    "result_up_d = np.array(result_up) \n",
    "result_dn_d = np.array(result_dn) \n",
    "print(\"result_up\", result_up_d)\n",
    "print(\"result_dn\", result_dn_d)\n",
    "np.abs(result_dn_d - result_up_d)"
   ]
  },
  {
   "cell_type": "markdown",
   "metadata": {},
   "source": [
    "### c)\n",
    "\n",
    "Assuming that the double-precision result x is exact, show that the single-precision Sup is less accurate than\n",
    "the single-precision Sdn, i.e., plot |Sup − x| and |Sdn − x| as a function of p"
   ]
  },
  {
   "cell_type": "code",
   "execution_count": 36,
   "metadata": {},
   "outputs": [
    {
     "name": "stdout",
     "output_type": "stream",
     "text": [
      "[  4.12047879e-07   7.54063374e-06   6.87899471e-06   7.04700215e-04\n",
      "   3.53687440e-02   1.29162866e+00   3.59421371e+00]\n",
      "[  5.41626437e-07   8.64913524e-07   1.70407413e-06   6.61061518e-06\n",
      "   7.51649426e-05   9.28002430e-03   1.89977865e-01]\n"
     ]
    }
   ],
   "source": [
    "print(np.abs(result_up_s - result_up_d))\n",
    "print(np.abs(result_dn_s - result_up_d))"
   ]
  },
  {
   "cell_type": "markdown",
   "metadata": {},
   "source": [
    "### d) \n",
    "\n",
    "Plot |S − ln(2)| vs p with p up to 9 for both single and double precision"
   ]
  },
  {
   "cell_type": "code",
   "execution_count": 39,
   "metadata": {},
   "outputs": [
    {
     "name": "stdout",
     "output_type": "stream",
     "text": [
      "p is: 2\n",
      "ini_up_s is: 0.688172\n",
      "ini_up_d is: 0.68817217931\n",
      "--------------------\n",
      "p is: 3\n",
      "ini_up_s is: 0.692646\n",
      "ini_up_d is: 0.69264743056\n",
      "--------------------\n",
      "p is: 4\n",
      "ini_up_s is: 0.693092\n",
      "ini_up_d is: 0.69309718306\n",
      "--------------------\n",
      "p is: 5\n",
      "ini_up_s is: 0.693134\n",
      "ini_up_d is: 0.693142180585\n",
      "--------------------\n",
      "p is: 6\n",
      "ini_up_s is: 0.693137\n",
      "ini_up_d is: 0.69314668056\n",
      "--------------------\n",
      "p is: 7\n",
      "ini_up_s is: 0.693137\n",
      "ini_up_d is: 0.69314713056\n",
      "--------------------\n",
      "p is: 8\n",
      "ini_up_s is: 0.693138\n",
      "ini_up_d is: 0.69314717556\n",
      "--------------------\n",
      "result_up_d [ 0.68817218  0.69264743  0.69309718  0.69314218  0.69314668  0.69314713\n",
      "  0.69314718]\n",
      "result_up_s [ 0.68817192  0.69264585  0.69309169  0.69313407  0.69313729  0.69313747\n",
      "  0.69313753]\n",
      "Error of Double precesion : [  4.97500125e-03   4.99750000e-04   4.99975000e-05   4.99997496e-06\n",
      "   4.99999693e-07   4.99998389e-08   4.99952613e-09]\n",
      "Error of Single precesion : [  4.97525930e-03   5.01334667e-04   5.54919243e-05   1.31130219e-05\n",
      "   9.89437103e-06   9.71555710e-06   9.65595245e-06]\n"
     ]
    }
   ],
   "source": [
    "result_up_d = []\n",
    "result_up_s = []\n",
    "\n",
    "for p in range(2,9):\n",
    "    up_lim = 10**p\n",
    "    print(\"p is:\", p)\n",
    "        ##    calculate the sum^{N}_{1} {(-1)^(n+1)_/n}  Double precision \n",
    "    ini_up_d = np.float64(0.0)\n",
    "    for i in range(1, up_lim+1):\n",
    "        ini_up_d = ini_up_d + np.float64((-1)**(i+1)/i)\n",
    "    result_up_d.append(ini_up_d)\n",
    "\n",
    "        ##    calculate the sum^{N}_{1} {(-1)^(n+1)_/n} single precesion\n",
    "    ini_up_s = np.float32(0.0)\n",
    "    for i in range(1, up_lim+1):\n",
    "        ini_up_s = ini_up_s + np.float32((-1)**(i+1)/i)\n",
    "    result_up_s.append(ini_up_s)\n",
    "\n",
    "    print(\"ini_up_s is:\", ini_up_s)\n",
    "    print(\"ini_up_d is:\", ini_up_d)\n",
    "    print(\"--------------------\")\n",
    "result_up_d = np.array(result_up_d) \n",
    "result_up_s = np.array(result_up_s) \n",
    "print(\"result_up_d\", result_up_d)\n",
    "print(\"result_up_s\", result_up_s)\n",
    "print(\"Error of Double precesion :\", np.abs(result_up_d - np.log(2)))\n",
    "print(\"Error of Single precesion :\", np.abs(result_up_s - np.log(2)))\n"
   ]
  },
  {
   "cell_type": "code",
   "execution_count": null,
   "metadata": {
    "collapsed": true
   },
   "outputs": [],
   "source": []
  }
 ],
 "metadata": {
  "kernelspec": {
   "display_name": "Python 3",
   "language": "python",
   "name": "python3"
  },
  "language_info": {
   "codemirror_mode": {
    "name": "ipython",
    "version": 3
   },
   "file_extension": ".py",
   "mimetype": "text/x-python",
   "name": "python",
   "nbconvert_exporter": "python",
   "pygments_lexer": "ipython3",
   "version": "3.6.3"
  }
 },
 "nbformat": 4,
 "nbformat_minor": 2
}
