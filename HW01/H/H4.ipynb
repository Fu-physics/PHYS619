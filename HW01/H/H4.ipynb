{
 "cells": [
  {
   "cell_type": "code",
   "execution_count": 26,
   "metadata": {
    "collapsed": true
   },
   "outputs": [],
   "source": [
    "import numpy as np"
   ]
  },
  {
   "cell_type": "markdown",
   "metadata": {},
   "source": [
    "# Homework Problem 4"
   ]
  },
  {
   "cell_type": "code",
   "execution_count": 27,
   "metadata": {},
   "outputs": [],
   "source": [
    "data_a = np.loadtxt(\"data_H4_a.csv\")"
   ]
  },
  {
   "cell_type": "markdown",
   "metadata": {},
   "source": [
    "## Solution of a)\n",
    "\n",
    "Reads in the numbers and computes their average"
   ]
  },
  {
   "cell_type": "code",
   "execution_count": 29,
   "metadata": {},
   "outputs": [
    {
     "name": "stdout",
     "output_type": "stream",
     "text": [
      "The Average is: 0.500459768\n"
     ]
    }
   ],
   "source": [
    "average = np.mean(data_a)\n",
    "print(\"The Average is:\", average)"
   ]
  },
  {
   "cell_type": "markdown",
   "metadata": {},
   "source": [
    "## Solution of b)\n",
    "\n",
    "Estimate the error of the average using the jackknife method."
   ]
  },
  {
   "cell_type": "code",
   "execution_count": 4,
   "metadata": {},
   "outputs": [],
   "source": [
    "N = len(data_a)"
   ]
  },
  {
   "cell_type": "code",
   "execution_count": 5,
   "metadata": {},
   "outputs": [
    {
     "name": "stdout",
     "output_type": "stream",
     "text": [
      "estimate the error of the average using the jackknife method is: 0.0789934163943\n"
     ]
    }
   ],
   "source": [
    "xixi = 0.0\n",
    "xi =0.0\n",
    "\n",
    "for i in range(N):\n",
    "    xi = xi + data_a[i]\n",
    "    for j in range(N):\n",
    "        xixi = data_a[i]*data_a[i] + xixi\n",
    "\n",
    "print(\"estimate the error of the average using the jackknife method is:\",(xixi-xi**2)/N**2)\n",
    "\n",
    "del data_a"
   ]
  },
  {
   "cell_type": "markdown",
   "metadata": {},
   "source": [
    "## Solution c)\n",
    "\n",
    "Plot the wall clock time"
   ]
  },
  {
   "cell_type": "code",
   "execution_count": 15,
   "metadata": {},
   "outputs": [
    {
     "name": "stdout",
     "output_type": "stream",
     "text": [
      "Average is: 0.499975734488\n",
      "error of the average 0.0833341997316\n",
      "Average is: 0.499975734488\n",
      "error of the average 0.0833341997316\n",
      "Average is: 0.499975734488\n",
      "error of the average 0.0833341997316\n",
      "Average is: 0.499975734488\n",
      "error of the average 0.0833341997316\n",
      "Average is: 0.499975734488\n",
      "error of the average 0.0833341997316\n",
      "Average is: 0.499975734488\n",
      "error of the average 0.0833341997316\n",
      "Average is: 0.499975734488\n",
      "error of the average 0.0833341997316\n",
      "Average is: 0.499975734488\n",
      "error of the average 0.0833341997316\n",
      "52.8 s ± 2.04 s per loop (mean ± std. dev. of 7 runs, 1 loop each)\n"
     ]
    }
   ],
   "source": [
    "%%timeit\n",
    "\n",
    "#!/usr/bin/env python\n",
    "\n",
    "# Define a filename.\n",
    "filename = \"data_H4_8.txt\"\n",
    " \n",
    "# Open the file as f.\n",
    "# The function readlines() reads the file.             \n",
    "with open(filename) as f:\n",
    "    content = f.readlines()\n",
    "\n",
    "array = []\n",
    "for line in content:\n",
    "    array.append(float(line))\n",
    "array_np = np.array(array)\n",
    "del array\n",
    "\n",
    "average = np.mean(array_np)\n",
    "print(\"Average is:\",average)\n",
    "\n",
    "error = np.mean((array_np-average)**2)\n",
    "print(\"error of the average\", error)\n",
    "\n",
    "del array_np\n"
   ]
  },
  {
   "cell_type": "markdown",
   "metadata": {},
   "source": [
    "#### time = [4.76, 9.71, 14, 18.8, 25, 36, 46,  53 ] #s\n",
    "#### p      = [1,      2,        3,  4,     5,   6,   7,   8  ]\n"
   ]
  },
  {
   "cell_type": "markdown",
   "metadata": {},
   "source": [
    "## Solution d)\n",
    "\n",
    "The first 4 points is almost linear, but not for the last three points, which means that the finite computer memory limits the calculation speed of computer."
   ]
  },
  {
   "cell_type": "code",
   "execution_count": null,
   "metadata": {
    "collapsed": true
   },
   "outputs": [],
   "source": []
  }
 ],
 "metadata": {
  "kernelspec": {
   "display_name": "Python 3",
   "language": "python",
   "name": "python3"
  },
  "language_info": {
   "codemirror_mode": {
    "name": "ipython",
    "version": 3
   },
   "file_extension": ".py",
   "mimetype": "text/x-python",
   "name": "python",
   "nbconvert_exporter": "python",
   "pygments_lexer": "ipython3",
   "version": "3.6.3"
  }
 },
 "nbformat": 4,
 "nbformat_minor": 2
}
